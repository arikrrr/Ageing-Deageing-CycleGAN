{
 "cells": [
  {
   "cell_type": "code",
   "execution_count": 1,
   "metadata": {},
   "outputs": [
    {
     "name": "stdout",
     "output_type": "stream",
     "text": [
      "39_1_20170116174525125.jpg.chip.jpg\n",
      "61_1_20170109142408075.jpg.chip.jpg\n",
      "61_1_20170109150557335.jpg.chip.jpg\n"
     ]
    }
   ],
   "source": [
    "import os, shutil\n",
    "images = os.listdir(\"UTKFace\")\n",
    "for f in images:\n",
    "  try:\n",
    "    val = f.split(\"_\")\n",
    "    age = int(val[0])\n",
    "    race = int(val[2])\n",
    "    if(age >=20 and age<=30):\n",
    "      shutil.copy(\"UTKFace/\"+f, \"dataset/trainA\")\n",
    "    if(age >=50 and age<=60):\n",
    "      shutil.copy(\"UTKFace/\"+f, \"dataset/trainB\")   \n",
    "  except:\n",
    "    print(f)"
   ]
  },
  {
   "cell_type": "code",
   "execution_count": 2,
   "metadata": {},
   "outputs": [
    {
     "name": "stdout",
     "output_type": "stream",
     "text": [
      "Creating output directory 'dataset_preprocessed'.\n"
     ]
    }
   ],
   "source": [
    "import os\n",
    "from PIL import Image\n",
    "\n",
    "def preprocess_images(input_dir, output_dir, size=(100, 100)):\n",
    "    # Check if output directory exists, if not, create it\n",
    "    if not os.path.exists(output_dir):\n",
    "        os.makedirs(output_dir)\n",
    "    \n",
    "    # Loop through subdirectories\n",
    "    for subdir in os.listdir(input_dir):\n",
    "        subdir_path = os.path.join(input_dir, subdir)\n",
    "        output_subdir_path = os.path.join(output_dir, subdir)\n",
    "        \n",
    "        # Check if the current item is a directory\n",
    "        if os.path.isdir(subdir_path):\n",
    "            # Create corresponding subdirectory in output directory\n",
    "            if not os.path.exists(output_subdir_path):\n",
    "                os.makedirs(output_subdir_path)\n",
    "            \n",
    "            # Loop through images in the subdirectory\n",
    "            for image_name in os.listdir(subdir_path):\n",
    "                image_path = os.path.join(subdir_path, image_name)\n",
    "                \n",
    "                # Open an image file\n",
    "                with Image.open(image_path) as img:\n",
    "                    # Convert image to RGB\n",
    "                    img = img.convert(\"RGB\")\n",
    "                    # Resize image\n",
    "                    img = img.resize(size)\n",
    "                    \n",
    "                    # Get the file name and extension\n",
    "                    file_name, file_extension = os.path.splitext(image_name)\n",
    "                    # Default to JPEG if no extension\n",
    "                    if not file_extension:\n",
    "                        file_extension = '.jpg'\n",
    "                    \n",
    "                    # Save image to output directory with the correct format\n",
    "                    output_image_path = os.path.join(output_subdir_path, file_name + file_extension)\n",
    "                    img.save(output_image_path, format='JPEG')\n",
    "\n",
    "# Example usage\n",
    "input_directory = 'dataset'\n",
    "output_directory = 'dataset_preprocessed'\n",
    "\n",
    "# Ensure input and output directories exist\n",
    "if not os.path.exists(input_directory):\n",
    "    print(f\"Error: Input directory '{input_directory}' does not exist.\")\n",
    "elif not os.path.exists(output_directory):\n",
    "    print(f\"Creating output directory '{output_directory}'.\")\n",
    "    os.makedirs(output_directory)\n",
    "\n",
    "# Preprocess images\n",
    "preprocess_images(input_directory, output_directory)"
   ]
  }
 ],
 "metadata": {
  "kernelspec": {
   "display_name": "TorchMl",
   "language": "python",
   "name": "python3"
  },
  "language_info": {
   "codemirror_mode": {
    "name": "ipython",
    "version": 3
   },
   "file_extension": ".py",
   "mimetype": "text/x-python",
   "name": "python",
   "nbconvert_exporter": "python",
   "pygments_lexer": "ipython3",
   "version": "3.8.5"
  }
 },
 "nbformat": 4,
 "nbformat_minor": 2
}
